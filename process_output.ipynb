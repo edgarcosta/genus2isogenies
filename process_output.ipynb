{
 "cells": [
  {
   "cell_type": "code",
   "execution_count": null,
   "id": "eda117d0",
   "metadata": {},
   "outputs": [],
   "source": [
    "def minimal_graph(M):\n",
    "    def unfill(M, check):\n",
    "        n = M.nrows()\n",
    "        M1 = copy(M)\n",
    "        zero = Integer(0)\n",
    "        for i in range(n):\n",
    "            M1[i, i] = zero\n",
    "            for j in range(i):\n",
    "                if not check(M1[i, j]):\n",
    "                    M1[i, j] = zero\n",
    "                    M1[j, i] = zero\n",
    "        return M1\n",
    "    Mprime = unfill(M, is_prime)\n",
    "    M2prime = Mprime**2\n",
    "    M1 = copy(M)\n",
    "    for i in range(M.nrows()):\n",
    "        for j in range(i):\n",
    "            if Mprime[i,j] != 0:\n",
    "                continue\n",
    "            if M1[i,j] != 0 and M2prime[i,j] != 0:\n",
    "                M1[i,j] = M1[j,i] = 0\n",
    "    return M1\n",
    "\n",
    "from collections import defaultdict, Counter\n",
    "def read_output_hash(filename):\n",
    "    ZZx = PolynomialRing(ZZ, 'x')\n",
    "    graphs = defaultdict(list)\n",
    "    with open(filename, \"r\") as F:\n",
    "        res = dict()\n",
    "        for i, line in enumerate(F.readlines(), 1):\n",
    "            s = line.strip().split(\":\")\n",
    "            if len(s) != 9:\n",
    "                continue\n",
    "            _, _, h, _, _, ells, _, eqnso, M = s\n",
    "            h = int(h)\n",
    "            eqns = [[ZZx(elt) for elt in eqn] for eqn in eval(eqnso)]\n",
    "            M = minimal_graph(matrix(eval(M)))\n",
    "            G = Graph(M, weighted=True)\n",
    "            for g in graphs[(G.num_verts(), G.num_edges())]:\n",
    "                b, m = G.is_isomorphic(g, certificate=True)\n",
    "                if b:\n",
    "                    G.relabel(m)\n",
    "                    eqns = [eqns[m[i]] for i,_ in enumerate(eqns)]\n",
    "                    M = G.weighted_adjacency_matrix()\n",
    "                    break\n",
    "            else:\n",
    "                graphs[(G.num_verts(), G.num_edges())].append(G)\n",
    "            res[h] = (eqns, ells, M)\n",
    "    return dict(res)\n",
    "def read_output_graph(filename):\n",
    "    ZZx = PolynomialRing(ZZ, 'x')\n",
    "    graphs = defaultdict(list)\n",
    "    with open(filename, \"r\") as F:\n",
    "        res = defaultdict(list)\n",
    "        for i, line in enumerate(F.readlines(), 1):\n",
    "            s = line.strip().split(\":\")\n",
    "            if len(s) != 9:\n",
    "                continue\n",
    "            c, _, h, _, _, ells, _, eqnso, M = s\n",
    "            #eqns = [[ZZx(elt) for elt in eqn] for eqn in eval(eqnso)]\n",
    "            c, h = map(int, (c, h))\n",
    "            M = eval(M)\n",
    "            if len(M) in [1,2]:\n",
    "                res[tuple(sum(M, []))].append((c, h))\n",
    "                continue\n",
    "            M = matrix(M)\n",
    "            M = minimal_graph(M)\n",
    "            G = Graph(M, weighted=True)\n",
    "            inv0 = (G.num_verts(), G.num_edges())\n",
    "            for g in graphs[inv0]:\n",
    "                if G.is_isomorphic(g, edge_labels=True):\n",
    "                    M = g.weighted_adjacency_matrix()\n",
    "                    break\n",
    "            else:\n",
    "                graphs[inv0].append(G)\n",
    "            res[tuple(M.list())].append((c, h))\n",
    "    return dict(res)"
   ]
  },
  {
   "cell_type": "code",
   "execution_count": null,
   "id": "695d6899",
   "metadata": {},
   "outputs": [],
   "source": [
    "%time data = read_output_graph(\"data/output_g2database_2e20.txt\")"
   ]
  },
  {
   "cell_type": "code",
   "execution_count": null,
   "id": "b856249d",
   "metadata": {},
   "outputs": [],
   "source": [
    "%time out_hash = read_output_hash(\"data/output_g2database_2e20.txt\")"
   ]
  },
  {
   "cell_type": "code",
   "execution_count": null,
   "id": "9a4c13e3",
   "metadata": {},
   "outputs": [],
   "source": [
    "memory = []\n",
    "with open(\"data/memory.log\") as F:\n",
    "    for i, line in enumerate(F.readlines()):\n",
    "        memory.append(int(line)/1024.)\n",
    "memory.sort()\n",
    "print(memory[-10:])"
   ]
  },
  {
   "cell_type": "code",
   "execution_count": null,
   "id": "3edad82c",
   "metadata": {},
   "outputs": [],
   "source": [
    "times = []\n",
    "with open(\"data/joblog_g2database_2e20.txt.jun25\") as F:\n",
    "    for i, line in enumerate(F.readlines()):\n",
    "        if i == 0:\n",
    "            continue\n",
    "        s = line.strip().split(\"\\t\")\n",
    "        h = s[-1].split(':')\n",
    "        times.append((float(s[3]), h[0].split(\" \")[-1], h[1], int(h[2])))\n",
    "times.sort()\n",
    "morethan10min = [elt for elt in times if elt[0] > 616]\n",
    "print(len(morethan10min))\n",
    "long = defaultdict(list)\n",
    "for elt in morethan10min:\n",
    "    o = out_hash[elt[3]]\n",
    "    isog = tuple(set(o[2].list()))\n",
    "    long[(isog, tuple(eval(o[1])))].append((elt[0], o[2].nrows()))\n",
    "for k, v in sorted(long.items()):\n",
    "    print(k[0], k[1])\n",
    "    print(len(v), v)\n",
    "    print(\"\")"
   ]
  },
  {
   "cell_type": "code",
   "execution_count": null,
   "id": "810d2eef",
   "metadata": {},
   "outputs": [],
   "source": [
    "print(sum([elt[0] for elt in [(1019.898, 1), (1050.102, 1), (1051.597, 1), (1054.231, 1), (1061.672, 1), (1114.16, 1)]])/(6*60))\n",
    "print(times[-2][0]/60)"
   ]
  },
  {
   "cell_type": "code",
   "execution_count": null,
   "id": "218d6e47",
   "metadata": {},
   "outputs": [],
   "source": [
    "graphs_persize = defaultdict(list)\n",
    "for k, v in data.items():\n",
    "    n = sqrt(len(k))\n",
    "    M = matrix(n, n, list(k))\n",
    "    G = Graph(M, weighted=True)\n",
    "    graphs_persize[sqrt(len(k))].append((G, len(v)))"
   ]
  },
  {
   "cell_type": "code",
   "execution_count": null,
   "id": "fa59c95f",
   "metadata": {},
   "outputs": [],
   "source": [
    "counts = {k : len(v) for k, v in data.items()}\n",
    "# total number of curves\n",
    "total = sum(v*sqrt(len(k)) for k, v in counts.items())\n",
    "newcurves = total - 1743737\n",
    "print(\"total =\", total, \"\\nnew =\", newcurves)\n",
    "\n",
    "from collections import Counter\n",
    "isogdeg = [(k, v/2) for k, v in sum([Counter(k*v) for k, v in counts.items()], Counter()).items() if k != 0]\n",
    "isogdeg = [ (a^2, b) for a,b in isogdeg]\n",
    "isogdeg.sort(key=lambda x: (prime_divisors(x[0]), x[0]))\n",
    "for i in range(7):\n",
    "    elt = isogdeg[i]\n",
    "    print(rf'${latex(factor(elt[0]))}$ & \\numprint{{{elt[1]}}}')\n",
    "    if i + 7 < len(isogdeg):\n",
    "        elt = isogdeg[i + 7]\n",
    "        print(\" && \")\n",
    "        print(rf'${latex(factor(elt[0]))}$ & \\numprint{{{elt[1]}}}\\\\')\n",
    "        \n",
    "# print(' & '.join([f'${latex(factor(elt[0]))}$' for elt in isogdeg]))\n",
    "# print(' & '.join([r'\\numprint{%s}' % elt[1] for elt in isogdeg]))"
   ]
  },
  {
   "cell_type": "code",
   "execution_count": null,
   "id": "69436286",
   "metadata": {},
   "outputs": [],
   "source": [
    "sizes = sorted(graphs_persize)\n",
    "for i in range(10):\n",
    "    k = sizes[i]\n",
    "    print(k, \"&\", r'\\numprint{%s}' % sum([elt1[1] for elt1 in graphs_persize[k]]))\n",
    "    if i + 10 < len(sizes):\n",
    "        k = sizes[i+10]\n",
    "        print(\" && \")\n",
    "        print(k, \"&\", r'\\numprint{%s}\\\\' % sum([elt1[1] for elt1 in graphs_persize[k]]))"
   ]
  },
  {
   "cell_type": "code",
   "execution_count": null,
   "id": "a6459c05",
   "metadata": {},
   "outputs": [],
   "source": [
    "%mkdir data/g2database_2e20"
   ]
  },
  {
   "cell_type": "code",
   "execution_count": null,
   "id": "f0a4fec4",
   "metadata": {
    "scrolled": false
   },
   "outputs": [],
   "source": [
    "for k in sorted(graphs_persize):\n",
    "    for i, (G, lv) in enumerate(sorted(graphs_persize[k], key=lambda x: -x[1])):\n",
    "            pl = G.plot(\n",
    "            edge_labels=True,\n",
    "            vertex_labels=False,\n",
    "            iterations=10**5,\n",
    "            spring=10,\n",
    "            talk=True,\n",
    "            #graph_border=True,\n",
    "            figsize=[16,7]\n",
    "            )\n",
    "            pl.save(f\"data/g2database_2e20/{k}-{i}-{lv}.png\")\n",
    "            pl.show()\n",
    "            print(lv)\n",
    "            print(\"#\"*30)"
   ]
  },
  {
   "cell_type": "code",
   "execution_count": null,
   "id": "fa4b8443",
   "metadata": {},
   "outputs": [],
   "source": []
  }
 ],
 "metadata": {
  "kernelspec": {
   "display_name": "SageMath 9.7",
   "language": "sage",
   "name": "sagemath"
  },
  "language_info": {
   "codemirror_mode": {
    "name": "ipython",
    "version": 3
   },
   "file_extension": ".py",
   "mimetype": "text/x-python",
   "name": "python",
   "nbconvert_exporter": "python",
   "pygments_lexer": "ipython3",
   "version": "3.8.10"
  }
 },
 "nbformat": 4,
 "nbformat_minor": 5
}
